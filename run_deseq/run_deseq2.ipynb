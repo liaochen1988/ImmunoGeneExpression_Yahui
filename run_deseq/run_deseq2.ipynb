{
 "cells": [
  {
   "cell_type": "code",
   "execution_count": 1,
   "id": "d1e68d3b-3ff3-45f6-abc6-bfb487f3958d",
   "metadata": {
    "scrolled": true,
    "tags": []
   },
   "outputs": [
    {
     "name": "stderr",
     "output_type": "stream",
     "text": [
      "Loading required package: S4Vectors\n",
      "\n",
      "Loading required package: stats4\n",
      "\n",
      "Loading required package: BiocGenerics\n",
      "\n",
      "Loading required package: parallel\n",
      "\n",
      "\n",
      "Attaching package: ‘BiocGenerics’\n",
      "\n",
      "\n",
      "The following objects are masked from ‘package:parallel’:\n",
      "\n",
      "    clusterApply, clusterApplyLB, clusterCall, clusterEvalQ,\n",
      "    clusterExport, clusterMap, parApply, parCapply, parLapply,\n",
      "    parLapplyLB, parRapply, parSapply, parSapplyLB\n",
      "\n",
      "\n",
      "The following objects are masked from ‘package:stats’:\n",
      "\n",
      "    IQR, mad, sd, var, xtabs\n",
      "\n",
      "\n",
      "The following objects are masked from ‘package:base’:\n",
      "\n",
      "    anyDuplicated, append, as.data.frame, basename, cbind, colnames,\n",
      "    dirname, do.call, duplicated, eval, evalq, Filter, Find, get, grep,\n",
      "    grepl, intersect, is.unsorted, lapply, Map, mapply, match, mget,\n",
      "    order, paste, pmax, pmax.int, pmin, pmin.int, Position, rank,\n",
      "    rbind, Reduce, rownames, sapply, setdiff, sort, table, tapply,\n",
      "    union, unique, unsplit, which, which.max, which.min\n",
      "\n",
      "\n",
      "\n",
      "Attaching package: ‘S4Vectors’\n",
      "\n",
      "\n",
      "The following object is masked from ‘package:base’:\n",
      "\n",
      "    expand.grid\n",
      "\n",
      "\n",
      "Loading required package: IRanges\n",
      "\n",
      "Loading required package: GenomicRanges\n",
      "\n",
      "Loading required package: GenomeInfoDb\n",
      "\n",
      "Loading required package: SummarizedExperiment\n",
      "\n",
      "Loading required package: Biobase\n",
      "\n",
      "Welcome to Bioconductor\n",
      "\n",
      "    Vignettes contain introductory material; view with\n",
      "    'browseVignettes()'. To cite Bioconductor, see\n",
      "    'citation(\"Biobase\")', and for packages 'citation(\"pkgname\")'.\n",
      "\n",
      "\n",
      "Loading required package: DelayedArray\n",
      "\n",
      "Loading required package: matrixStats\n",
      "\n",
      "\n",
      "Attaching package: ‘matrixStats’\n",
      "\n",
      "\n",
      "The following objects are masked from ‘package:Biobase’:\n",
      "\n",
      "    anyMissing, rowMedians\n",
      "\n",
      "\n",
      "Loading required package: BiocParallel\n",
      "\n",
      "\n",
      "Attaching package: ‘DelayedArray’\n",
      "\n",
      "\n",
      "The following objects are masked from ‘package:matrixStats’:\n",
      "\n",
      "    colMaxs, colMins, colRanges, rowMaxs, rowMins, rowRanges\n",
      "\n",
      "\n",
      "The following objects are masked from ‘package:base’:\n",
      "\n",
      "    aperm, apply, rowsum\n",
      "\n",
      "\n"
     ]
    }
   ],
   "source": [
    "library('ggplot2')\n",
    "library('DESeq2')"
   ]
  },
  {
   "cell_type": "code",
   "execution_count": 16,
   "id": "2e3f15a7-a37b-432a-a697-b1cf3fb09328",
   "metadata": {},
   "outputs": [
    {
     "data": {
      "text/html": [
       "<table class=\"dataframe\">\n",
       "<caption>A data.frame: 6 × 9</caption>\n",
       "<thead>\n",
       "\t<tr><th></th><th scope=col>ensgene</th><th scope=col>gso32.BL6.N.N.4h.1</th><th scope=col>gso32.BL6.IFNb.N.4h.1</th><th scope=col>gso32.BL6.N.N.4h.2</th><th scope=col>gso32.BL6.IFNb.N.4h.2</th><th scope=col>gso32.BL6.N.N.24h.1</th><th scope=col>gso32.BL6.IFNb.N.24h.1</th><th scope=col>gso32.BL6.N.N.24h.2</th><th scope=col>gso32.BL6.IFNb.N.24h.2</th></tr>\n",
       "\t<tr><th></th><th scope=col>&lt;fct&gt;</th><th scope=col>&lt;int&gt;</th><th scope=col>&lt;int&gt;</th><th scope=col>&lt;int&gt;</th><th scope=col>&lt;int&gt;</th><th scope=col>&lt;int&gt;</th><th scope=col>&lt;int&gt;</th><th scope=col>&lt;int&gt;</th><th scope=col>&lt;int&gt;</th></tr>\n",
       "</thead>\n",
       "<tbody>\n",
       "\t<tr><th scope=row>1</th><td>ENSMUSG00000033845</td><td> 955</td><td> 460</td><td> 954</td><td> 406</td><td> 629</td><td> 591</td><td> 608</td><td> 553</td></tr>\n",
       "\t<tr><th scope=row>2</th><td>ENSMUSG00000025903</td><td>1163</td><td> 849</td><td>1302</td><td> 951</td><td>1098</td><td>1081</td><td>1073</td><td>1031</td></tr>\n",
       "\t<tr><th scope=row>3</th><td>ENSMUSG00000033813</td><td> 786</td><td>1291</td><td> 894</td><td>1346</td><td> 541</td><td> 717</td><td> 579</td><td> 825</td></tr>\n",
       "\t<tr><th scope=row>4</th><td>ENSMUSG00000033793</td><td>2541</td><td>2148</td><td>2598</td><td>1968</td><td>1606</td><td>1615</td><td>1549</td><td>1620</td></tr>\n",
       "\t<tr><th scope=row>5</th><td>ENSMUSG00000025907</td><td> 992</td><td> 562</td><td>1096</td><td> 603</td><td>1901</td><td>1288</td><td>1789</td><td>1374</td></tr>\n",
       "\t<tr><th scope=row>6</th><td>ENSMUSG00000033740</td><td> 106</td><td> 123</td><td> 122</td><td> 137</td><td> 453</td><td> 546</td><td> 474</td><td> 613</td></tr>\n",
       "</tbody>\n",
       "</table>\n"
      ],
      "text/latex": [
       "A data.frame: 6 × 9\n",
       "\\begin{tabular}{r|lllllllll}\n",
       "  & ensgene & gso32.BL6.N.N.4h.1 & gso32.BL6.IFNb.N.4h.1 & gso32.BL6.N.N.4h.2 & gso32.BL6.IFNb.N.4h.2 & gso32.BL6.N.N.24h.1 & gso32.BL6.IFNb.N.24h.1 & gso32.BL6.N.N.24h.2 & gso32.BL6.IFNb.N.24h.2\\\\\n",
       "  & <fct> & <int> & <int> & <int> & <int> & <int> & <int> & <int> & <int>\\\\\n",
       "\\hline\n",
       "\t1 & ENSMUSG00000033845 &  955 &  460 &  954 &  406 &  629 &  591 &  608 &  553\\\\\n",
       "\t2 & ENSMUSG00000025903 & 1163 &  849 & 1302 &  951 & 1098 & 1081 & 1073 & 1031\\\\\n",
       "\t3 & ENSMUSG00000033813 &  786 & 1291 &  894 & 1346 &  541 &  717 &  579 &  825\\\\\n",
       "\t4 & ENSMUSG00000033793 & 2541 & 2148 & 2598 & 1968 & 1606 & 1615 & 1549 & 1620\\\\\n",
       "\t5 & ENSMUSG00000025907 &  992 &  562 & 1096 &  603 & 1901 & 1288 & 1789 & 1374\\\\\n",
       "\t6 & ENSMUSG00000033740 &  106 &  123 &  122 &  137 &  453 &  546 &  474 &  613\\\\\n",
       "\\end{tabular}\n"
      ],
      "text/markdown": [
       "\n",
       "A data.frame: 6 × 9\n",
       "\n",
       "| <!--/--> | ensgene &lt;fct&gt; | gso32.BL6.N.N.4h.1 &lt;int&gt; | gso32.BL6.IFNb.N.4h.1 &lt;int&gt; | gso32.BL6.N.N.4h.2 &lt;int&gt; | gso32.BL6.IFNb.N.4h.2 &lt;int&gt; | gso32.BL6.N.N.24h.1 &lt;int&gt; | gso32.BL6.IFNb.N.24h.1 &lt;int&gt; | gso32.BL6.N.N.24h.2 &lt;int&gt; | gso32.BL6.IFNb.N.24h.2 &lt;int&gt; |\n",
       "|---|---|---|---|---|---|---|---|---|---|\n",
       "| 1 | ENSMUSG00000033845 |  955 |  460 |  954 |  406 |  629 |  591 |  608 |  553 |\n",
       "| 2 | ENSMUSG00000025903 | 1163 |  849 | 1302 |  951 | 1098 | 1081 | 1073 | 1031 |\n",
       "| 3 | ENSMUSG00000033813 |  786 | 1291 |  894 | 1346 |  541 |  717 |  579 |  825 |\n",
       "| 4 | ENSMUSG00000033793 | 2541 | 2148 | 2598 | 1968 | 1606 | 1615 | 1549 | 1620 |\n",
       "| 5 | ENSMUSG00000025907 |  992 |  562 | 1096 |  603 | 1901 | 1288 | 1789 | 1374 |\n",
       "| 6 | ENSMUSG00000033740 |  106 |  123 |  122 |  137 |  453 |  546 |  474 |  613 |\n",
       "\n"
      ],
      "text/plain": [
       "  ensgene            gso32.BL6.N.N.4h.1 gso32.BL6.IFNb.N.4h.1\n",
       "1 ENSMUSG00000033845  955                460                 \n",
       "2 ENSMUSG00000025903 1163                849                 \n",
       "3 ENSMUSG00000033813  786               1291                 \n",
       "4 ENSMUSG00000033793 2541               2148                 \n",
       "5 ENSMUSG00000025907  992                562                 \n",
       "6 ENSMUSG00000033740  106                123                 \n",
       "  gso32.BL6.N.N.4h.2 gso32.BL6.IFNb.N.4h.2 gso32.BL6.N.N.24h.1\n",
       "1  954                406                   629               \n",
       "2 1302                951                  1098               \n",
       "3  894               1346                   541               \n",
       "4 2598               1968                  1606               \n",
       "5 1096                603                  1901               \n",
       "6  122                137                   453               \n",
       "  gso32.BL6.IFNb.N.24h.1 gso32.BL6.N.N.24h.2 gso32.BL6.IFNb.N.24h.2\n",
       "1  591                    608                 553                  \n",
       "2 1081                   1073                1031                  \n",
       "3  717                    579                 825                  \n",
       "4 1615                   1549                1620                  \n",
       "5 1288                   1789                1374                  \n",
       "6  546                    474                 613                  "
      ]
     },
     "metadata": {},
     "output_type": "display_data"
    }
   ],
   "source": [
    "countData <- read.csv('deseq2_input_raw_count.csv', header = TRUE, sep = \",\")\n",
    "head(countData)"
   ]
  },
  {
   "cell_type": "code",
   "execution_count": 18,
   "id": "44d22edf-812c-4505-898e-27b7268a776b",
   "metadata": {},
   "outputs": [
    {
     "data": {
      "text/html": [
       "<table class=\"dataframe\">\n",
       "<caption>A data.frame: 8 × 5</caption>\n",
       "<thead>\n",
       "\t<tr><th scope=col>id</th><th scope=col>treatment</th><th scope=col>time</th><th scope=col>mouse</th><th scope=col>group</th></tr>\n",
       "\t<tr><th scope=col>&lt;fct&gt;</th><th scope=col>&lt;fct&gt;</th><th scope=col>&lt;fct&gt;</th><th scope=col>&lt;fct&gt;</th><th scope=col>&lt;fct&gt;</th></tr>\n",
       "</thead>\n",
       "<tbody>\n",
       "\t<tr><td>gso32.BL6.N.N.4h.1    </td><td>Untreated</td><td>4 </td><td>1</td><td>Untreated_4 </td></tr>\n",
       "\t<tr><td>gso32.BL6.IFNb.N.4h.1 </td><td>IFNbeta  </td><td>4 </td><td>1</td><td>IFNbeta_4   </td></tr>\n",
       "\t<tr><td>gso32.BL6.N.N.4h.2    </td><td>Untreated</td><td>4 </td><td>2</td><td>Untreated_4 </td></tr>\n",
       "\t<tr><td>gso32.BL6.IFNb.N.4h.2 </td><td>IFNbeta  </td><td>4 </td><td>2</td><td>IFNbeta_4   </td></tr>\n",
       "\t<tr><td>gso32.BL6.N.N.24h.1   </td><td>Untreated</td><td>24</td><td>1</td><td>Untreated_24</td></tr>\n",
       "\t<tr><td>gso32.BL6.IFNb.N.24h.1</td><td>IFNbeta  </td><td>24</td><td>1</td><td>IFNbeta_24  </td></tr>\n",
       "\t<tr><td>gso32.BL6.N.N.24h.2   </td><td>Untreated</td><td>24</td><td>2</td><td>Untreated_24</td></tr>\n",
       "\t<tr><td>gso32.BL6.IFNb.N.24h.2</td><td>IFNbeta  </td><td>24</td><td>2</td><td>IFNbeta_24  </td></tr>\n",
       "</tbody>\n",
       "</table>\n"
      ],
      "text/latex": [
       "A data.frame: 8 × 5\n",
       "\\begin{tabular}{lllll}\n",
       " id & treatment & time & mouse & group\\\\\n",
       " <fct> & <fct> & <fct> & <fct> & <fct>\\\\\n",
       "\\hline\n",
       "\t gso32.BL6.N.N.4h.1     & Untreated & 4  & 1 & Untreated\\_4 \\\\\n",
       "\t gso32.BL6.IFNb.N.4h.1  & IFNbeta   & 4  & 1 & IFNbeta\\_4   \\\\\n",
       "\t gso32.BL6.N.N.4h.2     & Untreated & 4  & 2 & Untreated\\_4 \\\\\n",
       "\t gso32.BL6.IFNb.N.4h.2  & IFNbeta   & 4  & 2 & IFNbeta\\_4   \\\\\n",
       "\t gso32.BL6.N.N.24h.1    & Untreated & 24 & 1 & Untreated\\_24\\\\\n",
       "\t gso32.BL6.IFNb.N.24h.1 & IFNbeta   & 24 & 1 & IFNbeta\\_24  \\\\\n",
       "\t gso32.BL6.N.N.24h.2    & Untreated & 24 & 2 & Untreated\\_24\\\\\n",
       "\t gso32.BL6.IFNb.N.24h.2 & IFNbeta   & 24 & 2 & IFNbeta\\_24  \\\\\n",
       "\\end{tabular}\n"
      ],
      "text/markdown": [
       "\n",
       "A data.frame: 8 × 5\n",
       "\n",
       "| id &lt;fct&gt; | treatment &lt;fct&gt; | time &lt;fct&gt; | mouse &lt;fct&gt; | group &lt;fct&gt; |\n",
       "|---|---|---|---|---|\n",
       "| gso32.BL6.N.N.4h.1     | Untreated | 4  | 1 | Untreated_4  |\n",
       "| gso32.BL6.IFNb.N.4h.1  | IFNbeta   | 4  | 1 | IFNbeta_4    |\n",
       "| gso32.BL6.N.N.4h.2     | Untreated | 4  | 2 | Untreated_4  |\n",
       "| gso32.BL6.IFNb.N.4h.2  | IFNbeta   | 4  | 2 | IFNbeta_4    |\n",
       "| gso32.BL6.N.N.24h.1    | Untreated | 24 | 1 | Untreated_24 |\n",
       "| gso32.BL6.IFNb.N.24h.1 | IFNbeta   | 24 | 1 | IFNbeta_24   |\n",
       "| gso32.BL6.N.N.24h.2    | Untreated | 24 | 2 | Untreated_24 |\n",
       "| gso32.BL6.IFNb.N.24h.2 | IFNbeta   | 24 | 2 | IFNbeta_24   |\n",
       "\n"
      ],
      "text/plain": [
       "  id                     treatment time mouse group       \n",
       "1 gso32.BL6.N.N.4h.1     Untreated 4    1     Untreated_4 \n",
       "2 gso32.BL6.IFNb.N.4h.1  IFNbeta   4    1     IFNbeta_4   \n",
       "3 gso32.BL6.N.N.4h.2     Untreated 4    2     Untreated_4 \n",
       "4 gso32.BL6.IFNb.N.4h.2  IFNbeta   4    2     IFNbeta_4   \n",
       "5 gso32.BL6.N.N.24h.1    Untreated 24   1     Untreated_24\n",
       "6 gso32.BL6.IFNb.N.24h.1 IFNbeta   24   1     IFNbeta_24  \n",
       "7 gso32.BL6.N.N.24h.2    Untreated 24   2     Untreated_24\n",
       "8 gso32.BL6.IFNb.N.24h.2 IFNbeta   24   2     IFNbeta_24  "
      ]
     },
     "metadata": {},
     "output_type": "display_data"
    }
   ],
   "source": [
    "metaData <- read.csv('deseq2_input_metadata.csv', header = TRUE, sep = \",\")\n",
    "metaData$time <- as.factor(metaData$time)\n",
    "metaData$mouse <- as.factor(metaData$mouse)\n",
    "metaData"
   ]
  },
  {
   "cell_type": "code",
   "execution_count": 19,
   "id": "a05c576b-6465-4182-bbc2-2307aff239d7",
   "metadata": {},
   "outputs": [],
   "source": [
    "dds <- DESeqDataSetFromMatrix(countData=countData, \n",
    "                              colData=metaData, \n",
    "                              design=~mouse+group, tidy = TRUE)"
   ]
  },
  {
   "cell_type": "code",
   "execution_count": 20,
   "id": "9c6e95ad-c378-4d87-ba20-96efe150c007",
   "metadata": {},
   "outputs": [
    {
     "data": {
      "text/plain": [
       "class: DESeqDataSet \n",
       "dim: 12532 8 \n",
       "metadata(1): version\n",
       "assays(1): counts\n",
       "rownames(12532): ENSMUSG00000033845 ENSMUSG00000025903 ...\n",
       "  ENSMUSG00000064368 ENSMUSG00000064370\n",
       "rowData names(0):\n",
       "colnames(8): gso32.BL6.N.N.4h.1 gso32.BL6.IFNb.N.4h.1 ...\n",
       "  gso32.BL6.N.N.24h.2 gso32.BL6.IFNb.N.24h.2\n",
       "colData names(5): id treatment time mouse group"
      ]
     },
     "metadata": {},
     "output_type": "display_data"
    }
   ],
   "source": [
    "dds"
   ]
  },
  {
   "cell_type": "markdown",
   "id": "08c9e62a-87fd-4d90-a81a-0ca26a153d50",
   "metadata": {},
   "source": [
    "# Wald"
   ]
  },
  {
   "cell_type": "code",
   "execution_count": 37,
   "id": "6e5bf577-1680-4fa1-a8b0-38fb6b70e3e4",
   "metadata": {},
   "outputs": [
    {
     "name": "stderr",
     "output_type": "stream",
     "text": [
      "estimating size factors\n",
      "\n",
      "estimating dispersions\n",
      "\n",
      "gene-wise dispersion estimates\n",
      "\n",
      "mean-dispersion relationship\n",
      "\n",
      "final dispersion estimates\n",
      "\n",
      "fitting model and testing\n",
      "\n"
     ]
    }
   ],
   "source": [
    "dds_ward_ifnb <- DESeq(dds, test=\"Wald\")"
   ]
  },
  {
   "cell_type": "code",
   "execution_count": 39,
   "id": "0aa0bbc0-de09-4fa4-b020-6141d5c15571",
   "metadata": {},
   "outputs": [],
   "source": [
    "write.csv(results(dds_ward_ifnb, contrast=c(\"group\",\"IFNbeta_4\",\"Untreated_4\")), 'deseq2_output_wald_t4.csv')\n",
    "write.csv(results(dds_ward_ifnb, contrast=c(\"group\",\"IFNbeta_24\",\"Untreated_24\")), 'deseq2_output_wald_t24.csv')"
   ]
  },
  {
   "cell_type": "code",
   "execution_count": 42,
   "id": "73ebd349-4fc7-40ab-a9f0-971ea00a5794",
   "metadata": {},
   "outputs": [
    {
     "name": "stdout",
     "output_type": "stream",
     "text": [
      "\n",
      "out of 12523 with nonzero total read count\n",
      "adjusted p-value < 0.05\n",
      "LFC > 0 (up)       : 4442, 35%\n",
      "LFC < 0 (down)     : 4327, 35%\n",
      "outliers [1]       : 0, 0%\n",
      "low counts [2]     : 0, 0%\n",
      "(mean count < 0)\n",
      "[1] see 'cooksCutoff' argument of ?results\n",
      "[2] see 'independentFiltering' argument of ?results\n",
      "\n"
     ]
    }
   ],
   "source": [
    "summary(results(dds_ward_ifnb, contrast=c(\"group\",\"IFNbeta_4\",\"Untreated_4\"), alpha = 0.05))"
   ]
  },
  {
   "cell_type": "code",
   "execution_count": 43,
   "id": "3ebf53b3-9a51-4f8e-9102-e613e2a19922",
   "metadata": {},
   "outputs": [
    {
     "name": "stdout",
     "output_type": "stream",
     "text": [
      "\n",
      "out of 12523 with nonzero total read count\n",
      "adjusted p-value < 0.05\n",
      "LFC > 0 (up)       : 3992, 32%\n",
      "LFC < 0 (down)     : 4021, 32%\n",
      "outliers [1]       : 0, 0%\n",
      "low counts [2]     : 0, 0%\n",
      "(mean count < 0)\n",
      "[1] see 'cooksCutoff' argument of ?results\n",
      "[2] see 'independentFiltering' argument of ?results\n",
      "\n"
     ]
    }
   ],
   "source": [
    "summary(results(dds_ward_ifnb, contrast=c(\"group\",\"IFNbeta_24\",\"Untreated_24\"), alpha = 0.05))"
   ]
  },
  {
   "cell_type": "markdown",
   "id": "3d710dab-ca42-4462-b430-d852054dccb1",
   "metadata": {},
   "source": [
    "# LRT"
   ]
  },
  {
   "cell_type": "code",
   "execution_count": 21,
   "id": "0bdc5be4-e088-4522-8bc8-a05d6b907347",
   "metadata": {},
   "outputs": [
    {
     "name": "stderr",
     "output_type": "stream",
     "text": [
      "estimating size factors\n",
      "\n",
      "estimating dispersions\n",
      "\n",
      "gene-wise dispersion estimates\n",
      "\n",
      "mean-dispersion relationship\n",
      "\n",
      "final dispersion estimates\n",
      "\n",
      "fitting model and testing\n",
      "\n"
     ]
    }
   ],
   "source": [
    "dds_lrt_ifnb <- DESeq(dds, test=\"LRT\", reduced=~mouse)"
   ]
  },
  {
   "cell_type": "code",
   "execution_count": 40,
   "id": "900d8d47-e31c-4a27-9204-481eea59487e",
   "metadata": {},
   "outputs": [],
   "source": [
    "write.csv(results(dds_lrt_ifnb, contrast=c(\"group\",\"IFNbeta_4\",\"Untreated_4\")), 'deseq2_output_lrt_t4.csv')\n",
    "write.csv(results(dds_lrt_ifnb, contrast=c(\"group\",\"IFNbeta_24\",\"Untreated_24\")), 'deseq2_output_lrt_t24.csv')"
   ]
  },
  {
   "cell_type": "code",
   "execution_count": 34,
   "id": "dca6854a-1903-4cdd-80a5-55b5016d9ccf",
   "metadata": {},
   "outputs": [
    {
     "name": "stdout",
     "output_type": "stream",
     "text": [
      "\n",
      "out of 12523 with nonzero total read count\n",
      "adjusted p-value < 0.05\n",
      "LFC > 0 (up)       : 5549, 44%\n",
      "LFC < 0 (down)     : 5737, 46%\n",
      "outliers [1]       : 0, 0%\n",
      "low counts [2]     : 0, 0%\n",
      "(mean count < 0)\n",
      "[1] see 'cooksCutoff' argument of ?results\n",
      "[2] see 'independentFiltering' argument of ?results\n",
      "\n"
     ]
    }
   ],
   "source": [
    "summary(results(dds_lrt_ifnb, contrast=c(\"group\",\"IFNbeta_4\",\"Untreated_4\"), alpha = 0.05))"
   ]
  },
  {
   "cell_type": "code",
   "execution_count": 35,
   "id": "f12c07ce-5e22-4800-9e7c-5a2215b7fa78",
   "metadata": {},
   "outputs": [
    {
     "name": "stdout",
     "output_type": "stream",
     "text": [
      "\n",
      "out of 12523 with nonzero total read count\n",
      "adjusted p-value < 0.05\n",
      "LFC > 0 (up)       : 5591, 45%\n",
      "LFC < 0 (down)     : 5693, 45%\n",
      "outliers [1]       : 0, 0%\n",
      "low counts [2]     : 0, 0%\n",
      "(mean count < 0)\n",
      "[1] see 'cooksCutoff' argument of ?results\n",
      "[2] see 'independentFiltering' argument of ?results\n",
      "\n"
     ]
    }
   ],
   "source": [
    "summary(results(dds_lrt_ifnb, contrast=c(\"group\",\"IFNbeta_24\",\"Untreated_24\"), alpha = 0.05))"
   ]
  },
  {
   "cell_type": "code",
   "execution_count": null,
   "id": "381bb7ef-473e-43d5-810c-96c015359a0d",
   "metadata": {},
   "outputs": [],
   "source": []
  }
 ],
 "metadata": {
  "kernelspec": {
   "display_name": "R",
   "language": "R",
   "name": "ir"
  },
  "language_info": {
   "codemirror_mode": "r",
   "file_extension": ".r",
   "mimetype": "text/x-r-source",
   "name": "R",
   "pygments_lexer": "r",
   "version": "3.6.3"
  }
 },
 "nbformat": 4,
 "nbformat_minor": 5
}
